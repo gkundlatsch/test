{
  "nbformat": 4,
  "nbformat_minor": 0,
  "metadata": {
    "colab": {
      "provenance": [],
      "authorship_tag": "ABX9TyOGTzs+6EnmjC/8K/9HYJ35",
      "include_colab_link": true
    },
    "kernelspec": {
      "name": "python3",
      "display_name": "Python 3"
    },
    "language_info": {
      "name": "python"
    }
  },
  "cells": [
    {
      "cell_type": "markdown",
      "metadata": {
        "id": "view-in-github",
        "colab_type": "text"
      },
      "source": [
        "<a href=\"https://colab.research.google.com/github/gkundlatsch/test/blob/main/Aula01_Python.ipynb\" target=\"_parent\"><img src=\"https://colab.research.google.com/assets/colab-badge.svg\" alt=\"Open In Colab\"/></a>"
      ]
    },
    {
      "cell_type": "markdown",
      "source": [
        "**Início da jornada**\n",
        "\n",
        "_Primeiro teste_\n",
        "\n",
        "##Guilherme Kundlatsch\n"
      ],
      "metadata": {
        "id": "BiX3VXco8L59"
      }
    },
    {
      "cell_type": "code",
      "execution_count": 4,
      "metadata": {
        "colab": {
          "base_uri": "https://localhost:8080/"
        },
        "id": "b054ElY37--W",
        "outputId": "2e91bfd5-0e6f-4101-f08b-3d1802c45e03"
      },
      "outputs": [
        {
          "output_type": "stream",
          "name": "stdout",
          "text": [
            "The nucleotide with the longest repetition is A, with a count of 6.\n"
          ]
        }
      ],
      "source": [
        "def find_longest_repetition(sequence):\n",
        "    max_count = 0\n",
        "    max_nucleotide = ''\n",
        "    count = 1\n",
        "    \n",
        "    for i in range(1, len(sequence)):\n",
        "        if sequence[i] == sequence[i-1]:\n",
        "            count += 1\n",
        "        else:\n",
        "            if count > max_count:\n",
        "                max_count = count\n",
        "                max_nucleotide = sequence[i-1]\n",
        "            count = 1\n",
        "    \n",
        "    if count > max_count:\n",
        "        max_count = count\n",
        "        max_nucleotide = sequence[-1]\n",
        "    \n",
        "    return max_nucleotide, max_count\n",
        "\n",
        "sequence = 'CTCGGTACCAAATTTTCGAAAAAAGACGCTGAAAAGCGTCTTTTTTCGTTTTGGTCC'\n",
        "nucleotide, count = find_longest_repetition(sequence)\n",
        "print(f\"The nucleotide with the longest repetition is {nucleotide}, with a count of {count}.\")"
      ]
    },
    {
      "cell_type": "code",
      "source": [
        "print (\"Hello World!\")"
      ],
      "metadata": {
        "colab": {
          "base_uri": "https://localhost:8080/"
        },
        "id": "7J02__gF8KuE",
        "outputId": "442c1f09-68cf-4691-d109-608611b989cc"
      },
      "execution_count": 5,
      "outputs": [
        {
          "output_type": "stream",
          "name": "stdout",
          "text": [
            "Hello World!\n"
          ]
        }
      ]
    },
    {
      "cell_type": "code",
      "source": [
        "a = 3\n",
        "b = 12\n",
        "c = a + b\n",
        "print (c)"
      ],
      "metadata": {
        "colab": {
          "base_uri": "https://localhost:8080/"
        },
        "id": "wHWi2OKW-dIv",
        "outputId": "e3102143-63f2-49bb-ca99-6ecbf0c573d4"
      },
      "execution_count": 6,
      "outputs": [
        {
          "output_type": "stream",
          "name": "stdout",
          "text": [
            "15\n"
          ]
        }
      ]
    },
    {
      "cell_type": "code",
      "source": [
        "print (a, b, c)"
      ],
      "metadata": {
        "colab": {
          "base_uri": "https://localhost:8080/"
        },
        "id": "gtuRGye8_f71",
        "outputId": "571827c4-5316-4e88-e98b-07105011f572"
      },
      "execution_count": 7,
      "outputs": [
        {
          "output_type": "stream",
          "name": "stdout",
          "text": [
            "3 12 15\n"
          ]
        }
      ]
    },
    {
      "cell_type": "code",
      "source": [
        "a = 3\n",
        "b = 2\n",
        "c = a + b\n",
        "print (f'{a} + {b} = {c}') "
      ],
      "metadata": {
        "colab": {
          "base_uri": "https://localhost:8080/"
        },
        "id": "iE2W_Dw3_pFA",
        "outputId": "904260a1-58ed-45cd-afe4-134375f610aa"
      },
      "execution_count": 13,
      "outputs": [
        {
          "output_type": "stream",
          "name": "stdout",
          "text": [
            "3 + 2 = 5\n"
          ]
        }
      ]
    },
    {
      "cell_type": "code",
      "source": [
        "nome = \"Guilherme\"\n",
        "idade = 26\n",
        "print (f'Meu nome é {nome} e tenho {idade} anos')"
      ],
      "metadata": {
        "colab": {
          "base_uri": "https://localhost:8080/"
        },
        "id": "RIM5KkgHACYi",
        "outputId": "b82428d3-b075-4f08-fdeb-5b9bb736129c"
      },
      "execution_count": 12,
      "outputs": [
        {
          "output_type": "stream",
          "name": "stdout",
          "text": [
            "Meu nome é Guilherme e tenho 26 anos\n"
          ]
        }
      ]
    }
  ]
}